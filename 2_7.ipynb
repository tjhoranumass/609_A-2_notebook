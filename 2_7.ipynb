{
  "cells": [
    {
      "cell_type": "markdown",
      "metadata": {
        "id": "JpnVSmgZuBoI"
      },
      "source": [
        "# Introduction to Functional Programming in Python\n",
        "In this notebook, we'll introduce functional programming concepts in Python.\n",
        "We'll demonstrate the use of higher-order functions such as `map`, `filter`, and `reduce`.\n",
        "Finally, we’ll also demo pulling data from an API to apply these concepts."
      ]
    },
    {
      "cell_type": "markdown",
      "metadata": {
        "id": "LCNiM9S9uBoM"
      },
      "source": [
        "## Functional Programming Concepts"
      ]
    },
    {
      "cell_type": "markdown",
      "metadata": {
        "id": "eHObmKmauBoN"
      },
      "source": [
        "### Higher-order functions: `map`, `filter`, `reduce`"
      ]
    },
    {
      "cell_type": "code",
      "execution_count": null,
      "metadata": {
        "id": "WEZfKqXuuBoN",
        "colab": {
          "base_uri": "https://localhost:8080/"
        },
        "outputId": "ce83b673-1bba-4f15-8db2-8794ccb90fa2"
      },
      "outputs": [
        {
          "output_type": "stream",
          "name": "stdout",
          "text": [
            "Requirement already satisfied: ipytest in /usr/local/lib/python3.10/dist-packages (0.14.2)\n",
            "Requirement already satisfied: ipython in /usr/local/lib/python3.10/dist-packages (from ipytest) (7.34.0)\n",
            "Requirement already satisfied: packaging in /usr/local/lib/python3.10/dist-packages (from ipytest) (24.1)\n",
            "Requirement already satisfied: pytest>=5.4 in /usr/local/lib/python3.10/dist-packages (from ipytest) (7.4.4)\n",
            "Requirement already satisfied: iniconfig in /usr/local/lib/python3.10/dist-packages (from pytest>=5.4->ipytest) (2.0.0)\n",
            "Requirement already satisfied: pluggy<2.0,>=0.12 in /usr/local/lib/python3.10/dist-packages (from pytest>=5.4->ipytest) (1.5.0)\n",
            "Requirement already satisfied: exceptiongroup>=1.0.0rc8 in /usr/local/lib/python3.10/dist-packages (from pytest>=5.4->ipytest) (1.2.2)\n",
            "Requirement already satisfied: tomli>=1.0.0 in /usr/local/lib/python3.10/dist-packages (from pytest>=5.4->ipytest) (2.0.1)\n",
            "Requirement already satisfied: setuptools>=18.5 in /usr/local/lib/python3.10/dist-packages (from ipython->ipytest) (71.0.4)\n",
            "Requirement already satisfied: jedi>=0.16 in /usr/local/lib/python3.10/dist-packages (from ipython->ipytest) (0.19.1)\n",
            "Requirement already satisfied: decorator in /usr/local/lib/python3.10/dist-packages (from ipython->ipytest) (4.4.2)\n",
            "Requirement already satisfied: pickleshare in /usr/local/lib/python3.10/dist-packages (from ipython->ipytest) (0.7.5)\n",
            "Requirement already satisfied: traitlets>=4.2 in /usr/local/lib/python3.10/dist-packages (from ipython->ipytest) (5.7.1)\n",
            "Requirement already satisfied: prompt-toolkit!=3.0.0,!=3.0.1,<3.1.0,>=2.0.0 in /usr/local/lib/python3.10/dist-packages (from ipython->ipytest) (3.0.47)\n",
            "Requirement already satisfied: pygments in /usr/local/lib/python3.10/dist-packages (from ipython->ipytest) (2.16.1)\n",
            "Requirement already satisfied: backcall in /usr/local/lib/python3.10/dist-packages (from ipython->ipytest) (0.2.0)\n",
            "Requirement already satisfied: matplotlib-inline in /usr/local/lib/python3.10/dist-packages (from ipython->ipytest) (0.1.7)\n",
            "Requirement already satisfied: pexpect>4.3 in /usr/local/lib/python3.10/dist-packages (from ipython->ipytest) (4.9.0)\n",
            "Requirement already satisfied: parso<0.9.0,>=0.8.3 in /usr/local/lib/python3.10/dist-packages (from jedi>=0.16->ipython->ipytest) (0.8.4)\n",
            "Requirement already satisfied: ptyprocess>=0.5 in /usr/local/lib/python3.10/dist-packages (from pexpect>4.3->ipython->ipytest) (0.7.0)\n",
            "Requirement already satisfied: wcwidth in /usr/local/lib/python3.10/dist-packages (from prompt-toolkit!=3.0.0,!=3.0.1,<3.1.0,>=2.0.0->ipython->ipytest) (0.2.13)\n"
          ]
        }
      ],
      "source": [
        "# Importing necessary libraries\n",
        "!pip install ipytest\n",
        "from functools import reduce\n",
        "import requests\n",
        "import json\n",
        "import ipytest\n",
        "import pytest\n",
        "ipytest.autoconfig()"
      ]
    },
    {
      "cell_type": "markdown",
      "metadata": {
        "id": "7KPqMF2QuBoP"
      },
      "source": [
        "### 1. `map()` function\n",
        "The `map()` function applies a given function to all items in an input list."
      ]
    },
    {
      "cell_type": "code",
      "execution_count": null,
      "metadata": {
        "colab": {
          "base_uri": "https://localhost:8080/"
        },
        "id": "AtyFf1RDuBoP",
        "outputId": "7debddbc-3ee0-42ad-c708-f1468119d609"
      },
      "outputs": [
        {
          "output_type": "stream",
          "name": "stdout",
          "text": [
            "Original numbers: [1, 2, 3, 4, 5]\n",
            "Squared numbers using map: [1, 4, 9, 16, 25]\n"
          ]
        }
      ],
      "source": [
        "def square(x):\n",
        "    return x * x\n",
        "\n",
        "numbers = [1, 2, 3, 4, 5]\n",
        "squared_numbers = list(map(square, numbers))\n",
        "\n",
        "print(\"Original numbers:\", numbers)\n",
        "print(\"Squared numbers using map:\", squared_numbers)"
      ]
    },
    {
      "cell_type": "markdown",
      "metadata": {
        "id": "f9MYXjYKuBoQ"
      },
      "source": [
        "### 2. `filter()` function\n",
        "The `filter()` function creates a list of elements for which a function returns true."
      ]
    },
    {
      "cell_type": "code",
      "execution_count": null,
      "metadata": {
        "colab": {
          "base_uri": "https://localhost:8080/"
        },
        "id": "GfVweA5ouBoQ",
        "outputId": "73e9fadf-b4f8-4976-84b5-4beb6e826903"
      },
      "outputs": [
        {
          "output_type": "stream",
          "name": "stdout",
          "text": [
            "Even numbers using filter: [2, 4]\n"
          ]
        }
      ],
      "source": [
        "def is_even(x):\n",
        "    return x % 2 == 0\n",
        "\n",
        "even_numbers = list(filter(is_even, numbers))\n",
        "print(\"Even numbers using filter:\", even_numbers)"
      ]
    },
    {
      "cell_type": "markdown",
      "metadata": {
        "id": "qwAPRMTyuBoQ"
      },
      "source": [
        "### 3. `reduce()` function\n",
        "The `reduce()` function applies a rolling computation to sequential pairs of values in a list."
      ]
    },
    {
      "cell_type": "code",
      "execution_count": null,
      "metadata": {
        "colab": {
          "base_uri": "https://localhost:8080/"
        },
        "id": "lA21tWZguBoQ",
        "outputId": "d505b0f9-c276-4ed7-ee85-67179f3af651"
      },
      "outputs": [
        {
          "output_type": "stream",
          "name": "stdout",
          "text": [
            "Sum of numbers using reduce: 15\n"
          ]
        }
      ],
      "source": [
        "def add(x, y):\n",
        "    return x + y\n",
        "\n",
        "sum_of_numbers = reduce(add, numbers)\n",
        "print(\"Sum of numbers using reduce:\", sum_of_numbers)"
      ]
    },
    {
      "cell_type": "markdown",
      "metadata": {
        "id": "Vk0gHzwMuBoR"
      },
      "source": [
        "These are some core functional programming concepts where functions are treated as first-class citizens."
      ]
    },
    {
      "cell_type": "markdown",
      "metadata": {
        "id": "V_mSeHmzuBoR"
      },
      "source": [
        "## API Integration Example\n",
        "To extend this example, we’ll demonstrate pulling data from an API.\n",
        "We'll use the OpenWeatherMap API to get weather data for a specific city."
      ]
    },
    {
      "cell_type": "markdown",
      "metadata": {
        "id": "6iiMxWYpuBoR"
      },
      "source": [
        "### Step 1: Define a function to pull data from an API"
      ]
    },
    {
      "cell_type": "code",
      "execution_count": null,
      "metadata": {
        "id": "E9sxHTr1uBoR"
      },
      "outputs": [],
      "source": [
        "def get_weather_data(city_name, api_key=\"A Key\"):\n",
        "    base_url = \"http://api.openweathermap.org/data/2.5/weather?\"\n",
        "    complete_url = base_url + \"q=\" + city_name + \"&appid=\" + api_key\n",
        "    response = requests.get(complete_url)\n",
        "\n",
        "    # Convert response to JSON\n",
        "    data = response.json()\n",
        "\n",
        "    if data[\"cod\"] != \"404\":\n",
        "        # Extracting main data\n",
        "        main = data[\"main\"]\n",
        "        weather_description = data[\"weather\"][0][\"description\"]\n",
        "\n",
        "        # Print weather data\n",
        "        return {\n",
        "            \"Temperature\": main[\"temp\"],\n",
        "            \"Pressure\": main[\"pressure\"],\n",
        "            \"Humidity\": main[\"humidity\"],\n",
        "            \"Description\": weather_description\n",
        "        }\n",
        "    else:\n",
        "        return \"City Not Found\""
      ]
    },
    {
      "cell_type": "markdown",
      "metadata": {
        "id": "IBJUPznuuBoS"
      },
      "source": [
        "### Step 2: Call the function to pull data\n",
        "Replace `api_key` with your actual API key for OpenWeatherMap"
      ]
    },
    {
      "cell_type": "code",
      "execution_count": null,
      "metadata": {
        "colab": {
          "base_uri": "https://localhost:8080/"
        },
        "id": "jvPyH1NtuBoS",
        "outputId": "dbb39916-6cea-466b-e760-a563d94ce0f3"
      },
      "outputs": [
        {
          "output_type": "stream",
          "name": "stdout",
          "text": [
            "Weather data for New York:\n",
            "{'Temperature': 296.48, 'Pressure': 1019, 'Humidity': 71, 'Description': 'overcast clouds'}\n"
          ]
        }
      ],
      "source": [
        "city = \"New York\"\n",
        "weather_data = get_weather_data(city, api_key=\"24a34a637936f10d9489f09222237995\")\n",
        "\n",
        "print(f\"Weather data for {city}:\")\n",
        "print(weather_data)"
      ]
    },
    {
      "cell_type": "markdown",
      "metadata": {
        "id": "M3CxIORnuBoS"
      },
      "source": [
        "### Step 3: Apply functional programming concepts to process the API data"
      ]
    },
    {
      "cell_type": "code",
      "execution_count": null,
      "metadata": {
        "colab": {
          "base_uri": "https://localhost:8080/"
        },
        "id": "8qZVM6k8uBoT",
        "outputId": "d32b9d22-b73f-4be5-aa7e-c6bc5a9a31bd"
      },
      "outputs": [
        {
          "output_type": "stream",
          "name": "stdout",
          "text": [
            "Temperature in Celsius for New York: 23.33°C\n"
          ]
        }
      ],
      "source": [
        "# Example: Convert temperatures from Kelvin to Celsius using `map()`\n",
        "def kelvin_to_celsius(temp_k):\n",
        "    return temp_k - 273.15\n",
        "\n",
        "temps_kelvin = [weather_data[\"Temperature\"]]\n",
        "temps_celsius = list(map(kelvin_to_celsius, temps_kelvin))\n",
        "\n",
        "print(f\"Temperature in Celsius for {city}: {temps_celsius[0]:.2f}°C\")"
      ]
    },
    {
      "cell_type": "code",
      "execution_count": null,
      "metadata": {
        "id": "f66e726d",
        "colab": {
          "base_uri": "https://localhost:8080/"
        },
        "outputId": "9d839d73-bd6e-4bed-f963-8cbad9f8a0ba"
      },
      "outputs": [
        {
          "output_type": "stream",
          "name": "stdout",
          "text": [
            "\u001b[1m======================================= test session starts ========================================\u001b[0m\n",
            "platform linux -- Python 3.10.12, pytest-7.4.4, pluggy-1.5.0 -- /usr/bin/python3\n",
            "cachedir: .pytest_cache\n",
            "rootdir: /content\n",
            "plugins: anyio-3.7.1, typeguard-4.3.0\n",
            "\u001b[1mcollecting ... \u001b[0mcollected 4 items\n",
            "\n",
            "t_fffe4072bd66441584a3547a7620d244.py::test_square \u001b[32mPASSED\u001b[0m\u001b[32m                                    [ 25%]\u001b[0m\n",
            "t_fffe4072bd66441584a3547a7620d244.py::test_is_even \u001b[32mPASSED\u001b[0m\u001b[32m                                   [ 50%]\u001b[0m\n",
            "t_fffe4072bd66441584a3547a7620d244.py::test_kelvin_to_celsius \u001b[32mPASSED\u001b[0m\u001b[32m                         [ 75%]\u001b[0m\n",
            "t_fffe4072bd66441584a3547a7620d244.py::test_get_weather_data \u001b[32mPASSED\u001b[0m\u001b[32m                          [100%]\u001b[0m\n",
            "\n",
            "\u001b[32m======================================== \u001b[32m\u001b[1m4 passed\u001b[0m\u001b[32m in 0.05s\u001b[0m\u001b[32m =========================================\u001b[0m\n"
          ]
        }
      ],
      "source": [
        "%%ipytest -vv\n",
        "\n",
        "# Test functions\n",
        "def test_square():\n",
        "    assert square(2) == 4\n",
        "    assert square(3) == 9\n",
        "    assert square(0) == 0\n",
        "\n",
        "def test_is_even():\n",
        "    assert is_even(2) == True\n",
        "    assert is_even(3) == False\n",
        "    assert is_even(0) == True\n",
        "\n",
        "def test_kelvin_to_celsius():\n",
        "    assert pytest.approx(kelvin_to_celsius(273.15), 0.01) == 0\n",
        "    assert pytest.approx(kelvin_to_celsius(300), 0.01) == 26.85\n",
        "\n",
        "def test_get_weather_data(monkeypatch):\n",
        "    # Mocking an API response for this test as the real API may not work in a testing environment\n",
        "    def mock_get_weather_data(city, api_key):\n",
        "        return {\n",
        "            'Temperature': 296.24,\n",
        "            'Pressure': 1030,\n",
        "            'Humidity': 46,\n",
        "            'Description': 'clear sky'\n",
        "        }\n",
        "\n",
        "    monkeypatch.setattr(\"t_fffe4072bd66441584a3547a7620d244.get_weather_data\", mock_get_weather_data)\n",
        "    assert get_weather_data(\"Mock City\", \"mock_api_key\") == {\n",
        "        'Temperature': 296.24,\n",
        "        'Pressure': 1030,\n",
        "        'Humidity': 46,\n",
        "        'Description': 'clear sky'\n",
        "    }\n"
      ]
    },
    {
      "cell_type": "markdown",
      "metadata": {
        "id": "VAPFnNZCuBoT"
      },
      "source": [
        "## Conclusion\n",
        "In this notebook, we demonstrated key functional programming concepts: `map`, `filter`, and `reduce`.\n",
        "We also pulled data from an external API and applied functional programming to manipulate the data."
      ]
    }
  ],
  "metadata": {
    "colab": {
      "provenance": []
    },
    "kernelspec": {
      "display_name": "Python 3",
      "language": "python",
      "name": "python3"
    },
    "language_info": {
      "codemirror_mode": {
        "name": "ipython",
        "version": 3
      },
      "file_extension": ".py",
      "mimetype": "text/x-python",
      "name": "python",
      "nbconvert_exporter": "python",
      "version": "3.8.5"
    }
  },
  "nbformat": 4,
  "nbformat_minor": 0
}