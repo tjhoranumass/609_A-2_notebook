{
  "cells": [
    {
      "cell_type": "markdown",
      "metadata": {
        "id": "2femNHVGVV6C"
      },
      "source": [
        "# Homework Assignment: Writing Tests for Python Functions\n",
        "\n",
        "In this assignment, you will practice writing tests for Python functions using `pytest`. The functions are relatively simple, but the focus is on writing appropriate test cases for each function.\n",
        "\n",
        "You will:\n",
        "1. Define test cases for the provided functions.\n",
        "2. Use `pytest` to ensure the functions work as expected.\n",
        "\n",
        "This assignment should take about 20 minutes to complete.\n",
        "\n",
        "---\n",
        "\n",
        "### Instructions:\n",
        "- Below, you will find four basic Python functions.\n",
        "- Your task is to write a set of tests for each function.\n",
        "- You will use `pytest` to check the correctness of the functions.\n",
        "- Once you’ve written the tests, you can run them in the terminal or within this notebook using `ipytest`.\n",
        "\n",
        "---"
      ]
    },
    {
      "cell_type": "code",
      "source": [
        "!pip install ipytest\n",
        "import ipytest\n",
        "ipytest.autoconfig()"
      ],
      "metadata": {
        "colab": {
          "base_uri": "https://localhost:8080/"
        },
        "id": "vGBZ1A9dVpqn",
        "outputId": "f8487026-ed96-4342-cdc9-338eb8779a0a"
      },
      "execution_count": null,
      "outputs": [
        {
          "output_type": "stream",
          "name": "stdout",
          "text": [
            "Requirement already satisfied: ipytest in /usr/local/lib/python3.10/dist-packages (0.14.2)\n",
            "Requirement already satisfied: ipython in /usr/local/lib/python3.10/dist-packages (from ipytest) (7.34.0)\n",
            "Requirement already satisfied: packaging in /usr/local/lib/python3.10/dist-packages (from ipytest) (24.1)\n",
            "Requirement already satisfied: pytest>=5.4 in /usr/local/lib/python3.10/dist-packages (from ipytest) (7.4.4)\n",
            "Requirement already satisfied: iniconfig in /usr/local/lib/python3.10/dist-packages (from pytest>=5.4->ipytest) (2.0.0)\n",
            "Requirement already satisfied: pluggy<2.0,>=0.12 in /usr/local/lib/python3.10/dist-packages (from pytest>=5.4->ipytest) (1.5.0)\n",
            "Requirement already satisfied: exceptiongroup>=1.0.0rc8 in /usr/local/lib/python3.10/dist-packages (from pytest>=5.4->ipytest) (1.2.2)\n",
            "Requirement already satisfied: tomli>=1.0.0 in /usr/local/lib/python3.10/dist-packages (from pytest>=5.4->ipytest) (2.0.1)\n",
            "Requirement already satisfied: setuptools>=18.5 in /usr/local/lib/python3.10/dist-packages (from ipython->ipytest) (71.0.4)\n",
            "Requirement already satisfied: jedi>=0.16 in /usr/local/lib/python3.10/dist-packages (from ipython->ipytest) (0.19.1)\n",
            "Requirement already satisfied: decorator in /usr/local/lib/python3.10/dist-packages (from ipython->ipytest) (4.4.2)\n",
            "Requirement already satisfied: pickleshare in /usr/local/lib/python3.10/dist-packages (from ipython->ipytest) (0.7.5)\n",
            "Requirement already satisfied: traitlets>=4.2 in /usr/local/lib/python3.10/dist-packages (from ipython->ipytest) (5.7.1)\n",
            "Requirement already satisfied: prompt-toolkit!=3.0.0,!=3.0.1,<3.1.0,>=2.0.0 in /usr/local/lib/python3.10/dist-packages (from ipython->ipytest) (3.0.47)\n",
            "Requirement already satisfied: pygments in /usr/local/lib/python3.10/dist-packages (from ipython->ipytest) (2.16.1)\n",
            "Requirement already satisfied: backcall in /usr/local/lib/python3.10/dist-packages (from ipython->ipytest) (0.2.0)\n",
            "Requirement already satisfied: matplotlib-inline in /usr/local/lib/python3.10/dist-packages (from ipython->ipytest) (0.1.7)\n",
            "Requirement already satisfied: pexpect>4.3 in /usr/local/lib/python3.10/dist-packages (from ipython->ipytest) (4.9.0)\n",
            "Requirement already satisfied: parso<0.9.0,>=0.8.3 in /usr/local/lib/python3.10/dist-packages (from jedi>=0.16->ipython->ipytest) (0.8.4)\n",
            "Requirement already satisfied: ptyprocess>=0.5 in /usr/local/lib/python3.10/dist-packages (from pexpect>4.3->ipython->ipytest) (0.7.0)\n",
            "Requirement already satisfied: wcwidth in /usr/local/lib/python3.10/dist-packages (from prompt-toolkit!=3.0.0,!=3.0.1,<3.1.0,>=2.0.0->ipython->ipytest) (0.2.13)\n"
          ]
        }
      ]
    },
    {
      "cell_type": "code",
      "execution_count": null,
      "metadata": {
        "id": "PIWV8b2kVV6E"
      },
      "outputs": [],
      "source": [
        "# Function 1: Add two numbers\n",
        "def add(a, b):\n",
        "    return a + b\n",
        "\n",
        "# Function 2: Find the maximum of two numbers\n",
        "def find_max(a, b):\n",
        "    if a > b:\n",
        "        return a\n",
        "    else:\n",
        "        return b\n",
        "\n",
        "# Function 3: Check if a number is even\n",
        "def is_even(n):\n",
        "    return n % 2 == 0\n",
        "\n",
        "# Function 4: Convert Celsius to Fahrenheit\n",
        "def celsius_to_fahrenheit(c):\n",
        "    return (c * 9/5) + 32"
      ]
    },
    {
      "cell_type": "markdown",
      "metadata": {
        "id": "ddBOajKWVV6F"
      },
      "source": [
        "### Your Task\n",
        "\n",
        "Write tests for the above functions in the space below. You should:\n",
        "- Write at least **3 tests** for each function.\n",
        "- Consider both **normal** and **edge cases** in your tests.\n",
        "- Use the `assert` statement to validate the correctness of the functions.\n",
        "\n",
        "For example, if you're testing the `add` function, you might want to consider tests like:\n",
        "- Adding two positive numbers.\n",
        "- Adding two negative numbers.\n",
        "- Adding a positive and a negative number.\n",
        "\n",
        "---\n",
        "**Write your tests below:**"
      ]
    },
    {
      "cell_type": "code",
      "execution_count": null,
      "metadata": {
        "colab": {
          "base_uri": "https://localhost:8080/"
        },
        "id": "WBpsBI_2VV6G",
        "outputId": "d10d3779-6cca-4116-9f44-eb7676fbd23e"
      },
      "outputs": [
        {
          "output_type": "stream",
          "name": "stderr",
          "text": [
            "UsageError: Cell magic `%%ipytest` not found.\n"
          ]
        }
      ],
      "source": [
        "%%ipytest -vv\n",
        "# Write your test cases here\n",
        "def test_add():\n",
        "    assert False\n",
        "\n",
        "def test_find_max():\n",
        "    assert False\n",
        "\n",
        "def test_is_even():\n",
        "    assert False\n",
        "\n",
        "def test_celsius_to_fahrenheit():\n",
        "    assert False\n",
        "\n",
        "# Run the tests using pytest or by calling them directly in this notebook."
      ]
    },
    {
      "cell_type": "markdown",
      "metadata": {
        "id": "ZEzw66JdVV6G"
      },
      "source": [
        "### Running Your Tests\n",
        "\n",
        "To run the tests, follow these steps:\n",
        "1. If you are running this in the terminal, save your tests in a file named `test_functions.py`.\n",
        "2. In the terminal, navigate to the directory where the file is saved.\n",
        "3. Run the following command:\n",
        "```bash\n",
        "pytest test_functions.py\n",
        "```\n",
        "4. You will see the test results indicating whether the functions passed or failed.\n",
        "\n",
        "If you are using Jupyter Notebook, you can install ipytest in the notebook and\n",
        "run.\n",
        "\n",
        "Good luck, and happy testing!"
      ]
    }
  ],
  "metadata": {
    "kernelspec": {
      "display_name": "Python 3",
      "language": "python",
      "name": "python3"
    },
    "language_info": {
      "codemirror_mode": {
        "name": "ipython",
        "version": 3
      },
      "file_extension": ".py",
      "mimetype": "text/x-python",
      "name": "python",
      "nbconvert_exporter": "python",
      "version": "3.8.5"
    },
    "colab": {
      "provenance": []
    }
  },
  "nbformat": 4,
  "nbformat_minor": 0
}